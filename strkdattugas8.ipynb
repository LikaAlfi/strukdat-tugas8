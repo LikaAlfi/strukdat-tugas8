{
  "nbformat": 4,
  "nbformat_minor": 0,
  "metadata": {
    "colab": {
      "provenance": [],
      "authorship_tag": "ABX9TyM/Dpyc3lLpy44+JBPRFpeB",
      "include_colab_link": true
    },
    "kernelspec": {
      "name": "python3",
      "display_name": "Python 3"
    },
    "language_info": {
      "name": "python"
    }
  },
  "cells": [
    {
      "cell_type": "markdown",
      "metadata": {
        "id": "view-in-github",
        "colab_type": "text"
      },
      "source": [
        "<a href=\"https://colab.research.google.com/github/LikaAlfi/strukdat-tugas8/blob/main/strkdattugas8.ipynb\" target=\"_parent\"><img src=\"https://colab.research.google.com/assets/colab-badge.svg\" alt=\"Open In Colab\"/></a>"
      ]
    },
    {
      "cell_type": "code",
      "source": [
        "# tugas nomer 1\n",
        "def create_graph():\n",
        "    graph = {\n",
        "        'A': ['B', 'C', 'D'],\n",
        "        'B': ['A', 'C', 'D'],\n",
        "        'C': ['A', 'B', 'E'],\n",
        "        'D': ['A', 'B', 'E'],\n",
        "        'E': ['C', 'D']\n",
        "    }\n",
        "    return graph\n",
        "\n",
        "# Menampilkan graf\n",
        "def print_graph(graf):\n",
        "  for node in graf:\n",
        "    print(f\"{node} -> {graf [node]}\")\n",
        "\n",
        "graph = create_graph()\n",
        "print_graph(graph)"
      ],
      "metadata": {
        "colab": {
          "base_uri": "https://localhost:8080/"
        },
        "id": "VOIVwEjS5mzf",
        "outputId": "08a4630f-e167-4516-ba49-9daa17c9e8f2"
      },
      "execution_count": 44,
      "outputs": [
        {
          "output_type": "stream",
          "name": "stdout",
          "text": [
            "A -> ['B', 'C', 'D']\n",
            "B -> ['A', 'C', 'D']\n",
            "C -> ['A', 'B', 'E']\n",
            "D -> ['A', 'B', 'E']\n",
            "E -> ['C', 'D']\n"
          ]
        }
      ]
    },
    {
      "cell_type": "code",
      "source": [
        "# tugas nomer 2\n",
        "\n",
        "# traversal bfs\n",
        "from collections import deque\n",
        "def bfs(graph, start):\n",
        "  visited = set()\n",
        "  queue = deque ([start])\n",
        "\n",
        "  while queue:\n",
        "    vertex = queue.popleft()\n",
        "    if vertex not in visited:\n",
        "      print(vertex, end=\" \")\n",
        "      visited.add(vertex)\n",
        "      queue.extend([neighbor for neighbor in graph[vertex] if neighbor\n",
        "not in visited])\n",
        "# Contoh pemanggilan\n",
        "print(\"hasil dari traversal bfs : \")\n",
        "bfs(graph, 'B')\n",
        "\n",
        "# traversal dfs\n",
        "def dfs(graph, start, visited=None):\n",
        "  if visited is None:\n",
        "    visited = set ()\n",
        "\n",
        "  if start not in visited:\n",
        "    print(start, end=\" \")\n",
        "    visited.add(start)\n",
        "    for neighbor in graph[start]:\n",
        "      dfs (graph, neighbor, visited)\n",
        "# Contoh pemanggilan\n",
        "print(\"\\nHasil dari traversal dfs : \")\n",
        "dfs(graph, 'B')"
      ],
      "metadata": {
        "colab": {
          "base_uri": "https://localhost:8080/"
        },
        "id": "cAQQiHMV9sT_",
        "outputId": "06a067be-b199-41a3-d680-83cb45e3a69f"
      },
      "execution_count": 45,
      "outputs": [
        {
          "output_type": "stream",
          "name": "stdout",
          "text": [
            "hasil dari traversal bfs : \n",
            "B A C D E \n",
            "Hasil dari traversal dfs : \n",
            "B A C E D "
          ]
        }
      ]
    },
    {
      "cell_type": "code",
      "source": [
        "# tugas nomer 3\n",
        "# memoodifikasi fungsi BFS agar mengembalikan list urutan kunjungan,\n",
        "from collections import deque\n",
        "\n",
        "def bfs(graph, start):\n",
        "    visited = set()\n",
        "    queue = deque([start])\n",
        "    order = []\n",
        "\n",
        "    while queue:\n",
        "        node = queue.popleft()\n",
        "        if node not in visited:\n",
        "            visited.add(node)\n",
        "            order.append(node)\n",
        "            queue.extend(neighbor for neighbor in graph[node] if neighbor not in visited)\n",
        "\n",
        "    return order\n",
        "\n",
        "# Menggunakan BFS\n",
        "bfs_order = bfs(graph, 'D')\n",
        "print(\"Hasil BFS Order:\", bfs_order)\n"
      ],
      "metadata": {
        "colab": {
          "base_uri": "https://localhost:8080/"
        },
        "id": "U3IbhEjNGQJw",
        "outputId": "06664c65-8062-419b-f7e7-fcb4de95596e"
      },
      "execution_count": 46,
      "outputs": [
        {
          "output_type": "stream",
          "name": "stdout",
          "text": [
            "Hasil BFS Order: ['D', 'A', 'B', 'E', 'C']\n"
          ]
        }
      ]
    },
    {
      "cell_type": "code",
      "source": [
        "# tugas nomer 4\n",
        "# membuat fungsi find_path(graph, start, end) yang mengembalikan satu jalur dari start ke end jika ada, menggunakan DFS.\n",
        "\n",
        "def find_path(graph, start, end, path=None):\n",
        "    if path is None:\n",
        "        path = []\n",
        "\n",
        "    path.append(start)\n",
        "\n",
        "    if start == end:\n",
        "        return path\n",
        "\n",
        "    for neighbor in graph[start]:\n",
        "        if neighbor not in path:\n",
        "            new_path = find_path(graph, neighbor, end, path.copy())\n",
        "            if new_path:\n",
        "                return new_path\n",
        "\n",
        "    return None\n",
        "jalur = find_path(graph, 'A', 'E')\n",
        "print(\"Jalur dari A ke E:\", jalur)"
      ],
      "metadata": {
        "colab": {
          "base_uri": "https://localhost:8080/"
        },
        "id": "gTXZqnXFBih0",
        "outputId": "36a5dde3-5ec5-4734-dd0b-2c893d473fe7"
      },
      "execution_count": 47,
      "outputs": [
        {
          "output_type": "stream",
          "name": "stdout",
          "text": [
            "Jalur dari A ke E: ['A', 'B', 'C', 'E']\n"
          ]
        }
      ]
    },
    {
      "cell_type": "code",
      "source": [
        "# tugas nomer 5\n",
        "# menambahkan fungsi is_connected(graph) untuk mengecek apakah semua simpul dalam graf saling terhubung (gunakan kombinasi DFS + logika).\n",
        "\n",
        "def is_connected(graph):\n",
        "    nodes = list(graph.keys())\n",
        "    if not nodes:\n",
        "        return False\n",
        "\n",
        "    visited = set()\n",
        "\n",
        "    def dfs_helper(node):\n",
        "        visited.add(node)\n",
        "        for neighbor in graph[node]:\n",
        "            if neighbor not in visited:\n",
        "                dfs_helper(neighbor)\n",
        "\n",
        "    dfs_helper(nodes[0])\n",
        "    return len(visited) == len(nodes)\n",
        "\n",
        "print(\"Apakah graf terhubung?:\", is_connected(graph))\n"
      ],
      "metadata": {
        "colab": {
          "base_uri": "https://localhost:8080/"
        },
        "id": "nereTPb6SiXS",
        "outputId": "e73db861-3822-4cb1-9912-63149627afdb"
      },
      "execution_count": 48,
      "outputs": [
        {
          "output_type": "stream",
          "name": "stdout",
          "text": [
            "Apakah graf terhubung?: True\n"
          ]
        }
      ]
    }
  ]
}